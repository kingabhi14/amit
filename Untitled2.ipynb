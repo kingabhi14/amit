{
  "nbformat": 4,
  "nbformat_minor": 0,
  "metadata": {
    "colab": {
      "provenance": []
    },
    "kernelspec": {
      "name": "python3",
      "display_name": "Python 3"
    },
    "language_info": {
      "name": "python"
    }
  },
  "cells": [
    {
      "cell_type": "code",
      "execution_count": null,
      "metadata": {
        "id": "4Ro_4hkZ5Ep_"
      },
      "outputs": [],
      "source": []
    },
    {
      "cell_type": "markdown",
      "source": [
        "what is name abhishek yadav freiend anna   "
      ],
      "metadata": {
        "id": "t7OvPCZn5GKh"
      }
    },
    {
      "cell_type": "code",
      "source": [
        "print (\"heello world \")"
      ],
      "metadata": {
        "colab": {
          "base_uri": "https://localhost:8080/"
        },
        "id": "62qb7q7H5PkK",
        "outputId": "78260b5f-42ce-427f-f8df-359f1b4577df"
      },
      "execution_count": 1,
      "outputs": [
        {
          "output_type": "stream",
          "name": "stdout",
          "text": [
            "heello world \n"
          ]
        }
      ]
    }
  ]
}